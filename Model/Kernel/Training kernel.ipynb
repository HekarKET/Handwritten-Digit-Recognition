{
 "cells": [
  {
   "cell_type": "code",
   "execution_count": 1,
   "metadata": {},
   "outputs": [],
   "source": [
    "import matplotlib.pyplot as plt\n",
    "import numpy as np\n",
    "import pandas as pd \n",
    "import seaborn as sns\n",
    "from matplotlib import pyplot\n",
    "%matplotlib inline"
   ]
  },
  {
   "cell_type": "code",
   "execution_count": 6,
   "metadata": {},
   "outputs": [],
   "source": [
    "from mlxtend.data import loadlocal_mnist"
   ]
  },
  {
   "cell_type": "code",
   "execution_count": 2,
   "metadata": {},
   "outputs": [],
   "source": [
    "from keras.datasets import mnist"
   ]
  },
  {
   "cell_type": "code",
   "execution_count": 128,
   "metadata": {},
   "outputs": [],
   "source": [
    "(train_X, train_y), (test_X, test_y) = mnist.load_data()"
   ]
  },
  {
   "cell_type": "code",
   "execution_count": 129,
   "metadata": {},
   "outputs": [],
   "source": [
    "x_train = train_X.reshape(train_X.shape[0], 28, 28, 1)\n",
    "x_test = test_X.reshape(test_X.shape[0], 28, 28, 1)\n",
    "x_train = x_train.astype('float64')\n",
    "x_test = x_test.astype('float64')\n",
    "x_train = x_train/255\n",
    "x_test = x_test/255\n",
    "train_y = keras.utils.to_categorical(train_y,num_classes=10)\n",
    "test_y = keras.utils.to_categorical(test_y,num_classes=10)"
   ]
  },
  {
   "cell_type": "code",
   "execution_count": 130,
   "metadata": {},
   "outputs": [
    {
     "name": "stdout",
     "output_type": "stream",
     "text": [
      "Training images: (60000, 28, 28, 1) \n",
      "Training lables: (60000, 10) \n",
      "Testing images: (10000, 28, 28, 1) \n",
      "Testing Labels: (10000, 10)\n"
     ]
    }
   ],
   "source": [
    "print(\"Training images: {} \".format(x_train.shape))\n",
    "print(\"Training lables: {} \".format(train_y.shape))\n",
    "print(\"Testing images: {} \".format(x_test.shape))\n",
    "print(\"Testing Labels: {}\".format(test_y.shape))"
   ]
  },
  {
   "cell_type": "code",
   "execution_count": 111,
   "metadata": {},
   "outputs": [
    {
     "data": {
      "image/png": "[encoded data removed]",
      "text/plain": [
       "<Figure size 432x288 with 9 Axes>"
      ]
     },
     "metadata": {
      "needs_background": "light"
     },
     "output_type": "display_data"
    }
   ],
   "source": [
    "ax,fig = plt.subplots(3,3)\n",
    "for i in range(1,10):  \n",
    "    plt.subplot(3,3,i)\n",
    "    plt.imshow(train_X[i],cmap=pyplot.get_cmap('gray'))"
   ]
  },
  {
   "cell_type": "code",
   "execution_count": 138,
   "metadata": {},
   "outputs": [],
   "source": [
    "from keras.layers import Conv2D,Dense,MaxPooling2D,Dropout,Flatten\n",
    "from keras import Sequential\n",
    "import keras\n",
    "from keras.callbacks import EarlyStopping"
   ]
  },
  {
   "cell_type": "code",
   "execution_count": 139,
   "metadata": {},
   "outputs": [],
   "source": [
    "model = Sequential()\n",
    "model.add(keras.Input(shape=(28,28,1)))\n",
    "model.add(Conv2D(32,activation='relu',kernel_size=(3, 3),name='Conv1'))\n",
    "model.add(Conv2D(64, kernel_size= (3, 3), activation='relu',name='Conv2'))\n",
    "model.add(MaxPooling2D(pool_size=(2, 2)))\n",
    "model.add(Dropout(0.25))\n",
    "model.add(Flatten())\n",
    "model.add(Dense(32, activation=\"relu\", name=\"layer1\"))\n",
    "model.add(Dense(64, activation=\"relu\", name=\"layer2\"))\n",
    "model.add(Dropout(0.5))\n",
    "model.add(Dense(10, activation='softmax',name=\"layer3\"))"
   ]
  },
  {
   "cell_type": "code",
   "execution_count": 140,
   "metadata": {},
   "outputs": [],
   "source": [
    "model.compile(optimizer=keras.optimizers.Adam(lr=1e-3),loss=keras.losses.CategoricalCrossentropy(),metrics=['accuracy'])"
   ]
  },
  {
   "cell_type": "code",
   "execution_count": 141,
   "metadata": {},
   "outputs": [
    {
     "name": "stdout",
     "output_type": "stream",
     "text": [
      "Model: \"sequential_12\"\n",
      "_________________________________________________________________\n",
      "Layer (type)                 Output Shape              Param #   \n",
      "=================================================================\n",
      "Conv1 (Conv2D)               (None, 26, 26, 32)        320       \n",
      "_________________________________________________________________\n",
      "Conv2 (Conv2D)               (None, 24, 24, 64)        18496     \n",
      "_________________________________________________________________\n",
      "max_pooling2d_7 (MaxPooling2 (None, 12, 12, 64)        0         \n",
      "_________________________________________________________________\n",
      "dropout_17 (Dropout)         (None, 12, 12, 64)        0         \n",
      "_________________________________________________________________\n",
      "flatten_9 (Flatten)          (None, 9216)              0         \n",
      "_________________________________________________________________\n",
      "layer1 (Dense)               (None, 32)                294944    \n",
      "_________________________________________________________________\n",
      "layer2 (Dense)               (None, 64)                2112      \n",
      "_________________________________________________________________\n",
      "dropout_18 (Dropout)         (None, 64)                0         \n",
      "_________________________________________________________________\n",
      "layer3 (Dense)               (None, 10)                650       \n",
      "=================================================================\n",
      "Total params: 316,522\n",
      "Trainable params: 316,522\n",
      "Non-trainable params: 0\n",
      "_________________________________________________________________\n"
     ]
    }
   ],
   "source": [
    "model.summary()"
   ]
  },
  {
   "cell_type": "code",
   "execution_count": 142,
   "metadata": {},
   "outputs": [
    {
     "name": "stdout",
     "output_type": "stream",
     "text": [
      "Input: Tensor(\"input_12:0\", shape=(None, 28, 28, 1), dtype=float32) \n",
      "Output: Tensor(\"layer3/Softmax_9:0\", shape=(None, 10), dtype=float32) \n"
     ]
    }
   ],
   "source": [
    "print(\"Input: {} \".format(model.input))\n",
    "print(\"Output: {} \".format(model.output))"
   ]
  },
  {
   "cell_type": "code",
   "execution_count": 137,
   "metadata": {},
   "outputs": [],
   "source": [
    "callbacks = EarlyStopping(patience=5,restore_best_weights=True)"
   ]
  },
  {
   "cell_type": "code",
   "execution_count": 144,
   "metadata": {},
   "outputs": [],
   "source": [
    "EPOCHS = 50\n",
    "BATCH_SIZE = 128"
   ]
  },
  {
   "cell_type": "code",
   "execution_count": 145,
   "metadata": {},
   "outputs": [
    {
     "name": "stdout",
     "output_type": "stream",
     "text": [
      "Epoch 1/50\n",
      "469/469 [==============================] - 4s 8ms/step - loss: 0.3894 - accuracy: 0.8784 - val_loss: 0.0647 - val_accuracy: 0.9806\n",
      "Epoch 2/50\n",
      "469/469 [==============================] - 3s 7ms/step - loss: 0.1105 - accuracy: 0.9709 - val_loss: 0.0450 - val_accuracy: 0.9863\n",
      "Epoch 3/50\n",
      "469/469 [==============================] - 3s 7ms/step - loss: 0.0785 - accuracy: 0.9790 - val_loss: 0.0468 - val_accuracy: 0.9855\n",
      "Epoch 4/50\n",
      "469/469 [==============================] - 3s 7ms/step - loss: 0.0637 - accuracy: 0.9823 - val_loss: 0.0350 - val_accuracy: 0.9890\n",
      "Epoch 5/50\n",
      "469/469 [==============================] - 3s 7ms/step - loss: 0.0517 - accuracy: 0.9859 - val_loss: 0.0391 - val_accuracy: 0.9891\n",
      "Epoch 6/50\n",
      "469/469 [==============================] - 3s 7ms/step - loss: 0.0445 - accuracy: 0.9877 - val_loss: 0.0399 - val_accuracy: 0.9883\n",
      "Epoch 7/50\n",
      "469/469 [==============================] - 3s 7ms/step - loss: 0.0395 - accuracy: 0.9887 - val_loss: 0.0382 - val_accuracy: 0.9893\n",
      "Epoch 8/50\n",
      "469/469 [==============================] - 3s 7ms/step - loss: 0.0324 - accuracy: 0.9907 - val_loss: 0.0567 - val_accuracy: 0.9850\n",
      "Epoch 9/50\n",
      "469/469 [==============================] - 4s 8ms/step - loss: 0.0322 - accuracy: 0.9911 - val_loss: 0.0396 - val_accuracy: 0.9893\n"
     ]
    }
   ],
   "source": [
    "hist = model.fit(x_train,\n",
    "                 train_y,\n",
    "                 batch_size=BATCH_SIZE,\n",
    "                 epochs=EPOCHS,\n",
    "                 validation_data=(x_test, test_y),\n",
    "                 callbacks = [callbacks],)"
   ]
  },
  {
   "cell_type": "code",
   "execution_count": 146,
   "metadata": {},
   "outputs": [],
   "source": [
    "model.save(r'..\\Model\\DigitRecognizer.h5')"
   ]
  },
  {
   "cell_type": "code",
   "execution_count": 147,
   "metadata": {},
   "outputs": [
    {
     "name": "stdout",
     "output_type": "stream",
     "text": [
      "Loss: 0.0350\n",
      "Accuracy: 0.9890\n"
     ]
    }
   ],
   "source": [
    "results = model.evaluate(x_test, test_y, verbose=0)\n",
    "print(\"Loss: {:0.4f}\".format(results[0]))\n",
    "print(\"Accuracy: {:0.4f}\".format(results[1]))"
   ]
  },
  {
   "cell_type": "code",
   "execution_count": 152,
   "metadata": {},
   "outputs": [],
   "source": [
    "X_pred = model.predict(x_test[:5])"
   ]
  },
  {
   "cell_type": "code",
   "execution_count": 157,
   "metadata": {},
   "outputs": [
    {
     "data": {
      "text/plain": [
       "array([7, 2, 1, 0, 4], dtype=int64)"
      ]
     },
     "execution_count": 157,
     "metadata": {},
     "output_type": "execute_result"
    }
   ],
   "source": [
    "np.argmax(X_pred,axis=1)"
   ]
  },
  {
   "cell_type": "code",
   "execution_count": 161,
   "metadata": {},
   "outputs": [
    {
     "data": {
      "text/plain": [
       "array([7, 2, 1, 0, 4], dtype=int64)"
      ]
     },
     "execution_count": 161,
     "metadata": {},
     "output_type": "execute_result"
    }
   ],
   "source": [
    "np.argmax(test_y[:5],axis=1)"
   ]
  },
  {
   "cell_type": "code",
   "execution_count": null,
   "metadata": {},
   "outputs": [],
   "source": []
  }
 ],
 "metadata": {
  "kernelspec": {
   "display_name": "Python 3",
   "language": "python",
   "name": "python3"
  },
  "language_info": {
   "codemirror_mode": {
    "name": "ipython",
    "version": 3
   },
   "file_extension": ".py",
   "mimetype": "text/x-python",
   "name": "python",
   "nbconvert_exporter": "python",
   "pygments_lexer": "ipython3",
   "version": "3.8.5"
  }
 },
 "nbformat": 4,
 "nbformat_minor": 4
}
